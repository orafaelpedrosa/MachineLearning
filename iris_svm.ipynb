{
  "nbformat": 4,
  "nbformat_minor": 0,
  "metadata": {
    "colab": {
      "name": "iris_svm.ipynb",
      "provenance": [],
      "authorship_tag": "ABX9TyMEZJ3oLmNkKEOcLyMKtF+n",
      "include_colab_link": true
    },
    "kernelspec": {
      "name": "python3",
      "display_name": "Python 3"
    },
    "language_info": {
      "name": "python"
    }
  },
  "cells": [
    {
      "cell_type": "markdown",
      "metadata": {
        "id": "view-in-github",
        "colab_type": "text"
      },
      "source": [
        "<a href=\"https://colab.research.google.com/github/rafaelrpedrosa/iris_dataset/blob/main/iris_svm.ipynb\" target=\"_parent\"><img src=\"https://colab.research.google.com/assets/colab-badge.svg\" alt=\"Open In Colab\"/></a>"
      ]
    },
    {
      "cell_type": "code",
      "metadata": {
        "id": "R6jEO5ao8csH"
      },
      "source": [
        "import numpy as np\n",
        "import pandas as pd\n",
        "import matplotlib.pyplot as plt\n",
        "from sklearn.model_selection import train_test_split\n",
        "from sklearn.svm import SVC\n",
        "from sklearn import datasets"
      ],
      "execution_count": 3,
      "outputs": []
    },
    {
      "cell_type": "code",
      "metadata": {
        "id": "WYGd9UfgFVuP"
      },
      "source": [
        "iris = datasets.load_iris()"
      ],
      "execution_count": 4,
      "outputs": []
    },
    {
      "cell_type": "code",
      "metadata": {
        "id": "ZJeJ4bkgFXcc"
      },
      "source": [
        "x, y = iris.data, iris.target\n",
        "\n",
        "#dividir classes em treinamento e teste\n",
        "x_train, x_test, y_train, y_test=train_test_split(x,y,test_size=0.3, random_state=0)"
      ],
      "execution_count": 5,
      "outputs": []
    },
    {
      "cell_type": "code",
      "metadata": {
        "id": "peLD2nRbIRGR"
      },
      "source": [
        "#classificador\n",
        "clf = SVC(kernel='linear')\n",
        "clf.fit(x_train, y_train)\n",
        "clf.predict(x_test)\n",
        "print('Acuraccy: %.2f'% (clf.score(x_test, y_test)*100),'%')"
      ],
      "execution_count": null,
      "outputs": []
    }
  ]
}