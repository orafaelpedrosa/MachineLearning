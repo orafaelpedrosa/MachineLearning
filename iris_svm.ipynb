{
  "nbformat": 4,
  "nbformat_minor": 0,
  "metadata": {
    "colab": {
      "name": "iris_svm.ipynb",
      "provenance": [],
      "authorship_tag": "ABX9TyPLkytMweyIURdlpjfG3Jff",
      "include_colab_link": true
    },
    "kernelspec": {
      "name": "python3",
      "display_name": "Python 3"
    },
    "language_info": {
      "name": "python"
    }
  },
  "cells": [
    {
      "cell_type": "markdown",
      "metadata": {
        "id": "view-in-github",
        "colab_type": "text"
      },
      "source": [
        "<a href=\"https://colab.research.google.com/github/rafaelrpedrosa/iris_dataset/blob/main/iris_svm.ipynb\" target=\"_parent\"><img src=\"https://colab.research.google.com/assets/colab-badge.svg\" alt=\"Open In Colab\"/></a>"
      ]
    },
    {
      "cell_type": "markdown",
      "metadata": {
        "id": "qXt-R66SGKA6"
      },
      "source": [
        "# **Iris dataset**\n",
        "\n",
        "\n",
        ">O dataset Iris é bastante utilizado no meio educacional para ensino de modelos de classificação, cinco características são utilizados na classificação da flor: SepalLength (Comprimento da Sépala), SepalWidth (Largura da Sépala), PetalLength (Comprimento da Pétala), PetalWidth (Largura da Pétala) e class (Classe), que possui três variações, são elas: Versicolor, Setosa e Virginica.\n",
        "\n",
        "\n",
        "\n",
        "\n"
      ]
    },
    {
      "cell_type": "code",
      "metadata": {
        "id": "R6jEO5ao8csH"
      },
      "source": [
        "import numpy as np\n",
        "import pandas as pd\n",
        "from sklearn.model_selection import train_test_split\n",
        "from sklearn import svm, datasets"
      ],
      "execution_count": 2,
      "outputs": []
    },
    {
      "cell_type": "code",
      "metadata": {
        "id": "WYGd9UfgFVuP"
      },
      "source": [
        "iris = datasets.load_iris()"
      ],
      "execution_count": 3,
      "outputs": []
    },
    {
      "cell_type": "code",
      "metadata": {
        "id": "ZJeJ4bkgFXcc"
      },
      "source": [
        "x, y = iris.data, iris.target\n",
        "\n",
        "#dividir classes em treinamento e teste\n",
        "x_train, x_test, y_train, y_test=train_test_split(x,y,test_size=0.3, random_state=0)"
      ],
      "execution_count": 4,
      "outputs": []
    },
    {
      "cell_type": "code",
      "metadata": {
        "id": "peLD2nRbIRGR",
        "colab": {
          "base_uri": "https://localhost:8080/"
        },
        "outputId": "15c056c6-1b30-4587-fbba-bcf5cba79c53"
      },
      "source": [
        "#classificador\n",
        "clf = svm.SVC(kernel='linear')\n",
        "clf.fit(x_train, y_train)\n",
        "clf.predict(x_test)\n",
        "print('Acuraccy: %.2f'% (clf.score(x_test, y_test)*100),'%')"
      ],
      "execution_count": 6,
      "outputs": [
        {
          "output_type": "stream",
          "name": "stdout",
          "text": [
            "Acuraccy: 97.78 %\n"
          ]
        }
      ]
    }
  ]
}