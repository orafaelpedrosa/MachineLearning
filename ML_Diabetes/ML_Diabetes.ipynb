{
  "nbformat": 4,
  "nbformat_minor": 0,
  "metadata": {
    "colab": {
      "name": "ML_Diabetes",
      "provenance": []
    },
    "kernelspec": {
      "name": "python3",
      "display_name": "Python 3"
    },
    "language_info": {
      "name": "python"
    }
  },
  "cells": [
    {
      "cell_type": "code",
      "metadata": {
        "id": "1MHgAivPtGQp"
      },
      "source": [
        "import pandas as pd      \n",
        "import matplotlib as mat\n",
        "import matplotlib.pyplot as plt    \n",
        "import numpy as np\n",
        "from sklearn.model_selection import train_test_split\n",
        "from sklearn.impute import SimpleImputer\n",
        "from sklearn.naive_bayes import GaussianNB\n",
        "from sklearn.ensemble import RandomForestClassifier\n",
        "from sklearn.linear_model import LogisticRegression\n",
        "from sklearn import metrics            \n",
        "%matplotlib inline"
      ],
      "execution_count": 200,
      "outputs": []
    },
    {
      "cell_type": "code",
      "metadata": {
        "id": "H6PG4lNcuecZ"
      },
      "source": [
        "df = pd.read_csv('pima-data.csv')"
      ],
      "execution_count": 201,
      "outputs": []
    },
    {
      "cell_type": "code",
      "metadata": {
        "id": "EGXSTthOudzr"
      },
      "source": [
        "def plot_corr(df, size=10):\n",
        "    corr = df.corr()    \n",
        "    fig, ax = plt.subplots(figsize = (size, size))\n",
        "    ax.matshow(corr)  \n",
        "    plt.xticks(range(len(corr.columns)), corr.columns) \n",
        "    plt.yticks(range(len(corr.columns)), corr.columns) "
      ],
      "execution_count": 202,
      "outputs": []
    },
    {
      "cell_type": "code",
      "metadata": {
        "id": "3fHgroVLy45i"
      },
      "source": [
        "# Definindo as classes\n",
        "diabetes_map = {True : 1, False : 0}"
      ],
      "execution_count": 203,
      "outputs": []
    },
    {
      "cell_type": "code",
      "metadata": {
        "id": "8ptUDSqgy5aK"
      },
      "source": [
        "# Aplicando o mapeamento ao dataset\n",
        "df['diabetes'] = df['diabetes'].map(diabetes_map)"
      ],
      "execution_count": 204,
      "outputs": []
    },
    {
      "cell_type": "code",
      "metadata": {
        "id": "n28_7IhNzm5G"
      },
      "source": [
        "# Seleção de variáveis preditoras (Feature Selection)\n",
        "atributos = ['num_preg', 'glucose_conc', 'diastolic_bp', 'thickness', 'insulin', 'bmi', 'diab_pred', 'age']"
      ],
      "execution_count": 205,
      "outputs": []
    },
    {
      "cell_type": "code",
      "metadata": {
        "id": "TZK-eySM0RC5"
      },
      "source": [
        "# Variável a ser prevista\n",
        "atrib_prev = ['diabetes']"
      ],
      "execution_count": 206,
      "outputs": []
    },
    {
      "cell_type": "code",
      "metadata": {
        "id": "dFXdI0P70RiE"
      },
      "source": [
        "# Criando objetos\n",
        "X = df[atributos].values\n",
        "Y = df[atrib_prev].values"
      ],
      "execution_count": 207,
      "outputs": []
    },
    {
      "cell_type": "code",
      "metadata": {
        "id": "t-gmUdYl0Zsr"
      },
      "source": [
        "# Criando dados de treino e de teste\n",
        "X_treino, X_teste, Y_treino, Y_teste = train_test_split(X, Y, test_size = 0.30, random_state = 42)"
      ],
      "execution_count": 208,
      "outputs": []
    },
    {
      "cell_type": "code",
      "metadata": {
        "id": "HeV_zJTDaMcd"
      },
      "source": [
        "# Criando objeto\n",
        "preenche_0 = SimpleImputer(missing_values = 0, strategy = \"mean\")"
      ],
      "execution_count": 209,
      "outputs": []
    },
    {
      "cell_type": "code",
      "metadata": {
        "id": "05KVmoLq0sQp"
      },
      "source": [
        "# Substituindo os valores iguais a zero, pela média dos dados\n",
        "X_treino = preenche_0.fit_transform(X_treino)\n",
        "X_teste = preenche_0.fit_transform(X_teste)"
      ],
      "execution_count": 210,
      "outputs": []
    },
    {
      "cell_type": "markdown",
      "metadata": {
        "id": "bferrr2vy2sc"
      },
      "source": [
        "#Naive Bayes"
      ]
    },
    {
      "cell_type": "code",
      "metadata": {
        "id": "fSsEMGPua5d6"
      },
      "source": [
        "# Criando o modelo preditivo\n",
        "modelo_v1 = GaussianNB()"
      ],
      "execution_count": 211,
      "outputs": []
    },
    {
      "cell_type": "code",
      "metadata": {
        "colab": {
          "base_uri": "https://localhost:8080/"
        },
        "id": "OtU6p8Ata6aA",
        "outputId": "f5b53d28-4ed2-4ac9-d2a6-ee0c1e5d6b87"
      },
      "source": [
        "# Treinando o modelo\n",
        "modelo_v1.fit(X_treino, Y_treino.ravel())"
      ],
      "execution_count": 212,
      "outputs": [
        {
          "output_type": "execute_result",
          "data": {
            "text/plain": [
              "GaussianNB(priors=None, var_smoothing=1e-09)"
            ]
          },
          "metadata": {},
          "execution_count": 212
        }
      ]
    },
    {
      "cell_type": "code",
      "metadata": {
        "colab": {
          "base_uri": "https://localhost:8080/"
        },
        "id": "O7XP_5dZtq05",
        "outputId": "d54c689d-f4bc-40c7-c3ea-67d51bb18ccd"
      },
      "source": [
        "nb_predict_test = modelo_v1.predict(X_teste)\n",
        "print(\"Exatidão (Accuracy): {0:.4f}\".format(metrics.accuracy_score(Y_teste, nb_predict_test)))"
      ],
      "execution_count": 213,
      "outputs": [
        {
          "output_type": "stream",
          "name": "stdout",
          "text": [
            "Exatidão (Accuracy): 0.7359\n"
          ]
        }
      ]
    },
    {
      "cell_type": "markdown",
      "metadata": {
        "id": "q2qsAnufv2KJ"
      },
      "source": [
        "#RandomForest"
      ]
    },
    {
      "cell_type": "code",
      "metadata": {
        "colab": {
          "base_uri": "https://localhost:8080/"
        },
        "id": "YVgGJVaUv7QW",
        "outputId": "6a05714f-7e52-4277-ed02-5666e93e19ee"
      },
      "source": [
        "modelo_v2 = RandomForestClassifier(random_state = 42)\n",
        "modelo_v2.fit(X_treino, Y_treino.ravel())"
      ],
      "execution_count": 214,
      "outputs": [
        {
          "output_type": "execute_result",
          "data": {
            "text/plain": [
              "RandomForestClassifier(bootstrap=True, ccp_alpha=0.0, class_weight=None,\n",
              "                       criterion='gini', max_depth=None, max_features='auto',\n",
              "                       max_leaf_nodes=None, max_samples=None,\n",
              "                       min_impurity_decrease=0.0, min_impurity_split=None,\n",
              "                       min_samples_leaf=1, min_samples_split=2,\n",
              "                       min_weight_fraction_leaf=0.0, n_estimators=100,\n",
              "                       n_jobs=None, oob_score=False, random_state=42, verbose=0,\n",
              "                       warm_start=False)"
            ]
          },
          "metadata": {},
          "execution_count": 214
        }
      ]
    },
    {
      "cell_type": "code",
      "metadata": {
        "colab": {
          "base_uri": "https://localhost:8080/"
        },
        "id": "il4lWGr4wJIG",
        "outputId": "7e4951df-a28c-47fd-914e-5cdbd60a772c"
      },
      "source": [
        "# Verificando nos dados de teste\n",
        "rf_predict_test = modelo_v2.predict(X_teste)\n",
        "print(\"Exatidão (Accuracy): {0:.4f}\".format(metrics.accuracy_score(Y_teste, rf_predict_test)))"
      ],
      "execution_count": 215,
      "outputs": [
        {
          "output_type": "stream",
          "name": "stdout",
          "text": [
            "Exatidão (Accuracy): 0.7403\n"
          ]
        }
      ]
    },
    {
      "cell_type": "markdown",
      "metadata": {
        "id": "VGP0Md2-xZa8"
      },
      "source": [
        "#Regressão Logística"
      ]
    },
    {
      "cell_type": "code",
      "metadata": {
        "id": "rmnQFiLpxg80"
      },
      "source": [
        "# Criando o modelo preditivo\n",
        "modelo_v3 = LogisticRegression(C = 0.7, random_state = 42)"
      ],
      "execution_count": 216,
      "outputs": []
    },
    {
      "cell_type": "code",
      "metadata": {
        "colab": {
          "base_uri": "https://localhost:8080/"
        },
        "id": "FAaxe98Fy6wR",
        "outputId": "f6dcf535-e305-4f8d-8f90-75b7937c8374"
      },
      "source": [
        "# Treinando o modelo\n",
        "modelo_v3.fit(X_treino, Y_treino.ravel())"
      ],
      "execution_count": 217,
      "outputs": [
        {
          "output_type": "stream",
          "name": "stderr",
          "text": [
            "/usr/local/lib/python3.7/dist-packages/sklearn/linear_model/_logistic.py:940: ConvergenceWarning: lbfgs failed to converge (status=1):\n",
            "STOP: TOTAL NO. of ITERATIONS REACHED LIMIT.\n",
            "\n",
            "Increase the number of iterations (max_iter) or scale the data as shown in:\n",
            "    https://scikit-learn.org/stable/modules/preprocessing.html\n",
            "Please also refer to the documentation for alternative solver options:\n",
            "    https://scikit-learn.org/stable/modules/linear_model.html#logistic-regression\n",
            "  extra_warning_msg=_LOGISTIC_SOLVER_CONVERGENCE_MSG)\n"
          ]
        },
        {
          "output_type": "execute_result",
          "data": {
            "text/plain": [
              "LogisticRegression(C=0.7, class_weight=None, dual=False, fit_intercept=True,\n",
              "                   intercept_scaling=1, l1_ratio=None, max_iter=100,\n",
              "                   multi_class='auto', n_jobs=None, penalty='l2',\n",
              "                   random_state=42, solver='lbfgs', tol=0.0001, verbose=0,\n",
              "                   warm_start=False)"
            ]
          },
          "metadata": {},
          "execution_count": 217
        }
      ]
    },
    {
      "cell_type": "code",
      "metadata": {
        "colab": {
          "base_uri": "https://localhost:8080/"
        },
        "id": "A34DrrgzyWbG",
        "outputId": "c8b5b103-5ce5-4814-e1fc-f28dafa0c16c"
      },
      "source": [
        "lr_predict_test = modelo_v3.predict(X_teste)\n",
        "print(\"Exatidão (Accuracy): {0:.4f}\".format(metrics.accuracy_score(Y_teste, lr_predict_test)))"
      ],
      "execution_count": 218,
      "outputs": [
        {
          "output_type": "stream",
          "name": "stdout",
          "text": [
            "Exatidão (Accuracy): 0.7489\n"
          ]
        }
      ]
    },
    {
      "cell_type": "markdown",
      "metadata": {
        "id": "Hd4U7KmUz4WK"
      },
      "source": [
        "* Navie Bayes = 0.7359\n",
        "* RandomForest = 0.7403\n",
        "* Regressão Logística = 0.7489\n"
      ]
    }
  ]
}