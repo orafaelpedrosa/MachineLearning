{
  "nbformat": 4,
  "nbformat_minor": 0,
  "metadata": {
    "colab": {
      "name": "iris_LogisticRegression.pynb",
      "provenance": [],
      "collapsed_sections": [],
      "authorship_tag": "ABX9TyPIagQ+ArCGQ9NcniuOeH2x"
    },
    "kernelspec": {
      "name": "python3",
      "display_name": "Python 3"
    },
    "language_info": {
      "name": "python"
    }
  },
  "cells": [
    {
      "cell_type": "code",
      "metadata": {
        "id": "3YH5Ar4o53Ga"
      },
      "source": [
        "#import libraries\n",
        "import numpy as np\n",
        "import pandas as pd\n",
        "from sklearn.model_selection import train_test_split\n",
        "from sklearn.linear_model import LogisticRegression\n",
        "from sklearn.metrics import accuracy_score\n",
        "from sklearn import datasets"
      ],
      "execution_count": 9,
      "outputs": []
    },
    {
      "cell_type": "code",
      "metadata": {
        "id": "d9LwCEGE6aYf"
      },
      "source": [
        "iris = datasets.load_iris()"
      ],
      "execution_count": 4,
      "outputs": []
    },
    {
      "cell_type": "code",
      "metadata": {
        "id": "jtSpOq5m66u0"
      },
      "source": [
        "x, y = iris.data, iris.target"
      ],
      "execution_count": 5,
      "outputs": []
    },
    {
      "cell_type": "code",
      "metadata": {
        "id": "qQJxzHPV68UT"
      },
      "source": [
        "#splitting dataset\n",
        "x_train, x_test, y_train, y_test=train_test_split(x,y,test_size=0.3, random_state=1)"
      ],
      "execution_count": 11,
      "outputs": []
    },
    {
      "cell_type": "code",
      "metadata": {
        "id": "Yz-OlDuk7Nwn"
      },
      "source": [
        "clf = LogisticRegression(random_state=1)\n",
        "clf.fit(x_train, y_train)\n",
        "y_pred  = clf.predict(x_test)\n",
        "\n",
        "print('Acuraccy: %.2f'% (accuracy_score(y_pred, y_test)*100),'%')"
      ],
      "execution_count": null,
      "outputs": []
    }
  ]
}